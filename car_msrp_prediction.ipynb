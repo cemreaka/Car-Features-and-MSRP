{
 "cells": [
  {
   "cell_type": "code",
   "execution_count": 1,
   "metadata": {},
   "outputs": [],
   "source": [
    "import pandas as pd\n",
    "import seaborn as sns\n",
    "%matplotlib inline "
   ]
  },
  {
   "cell_type": "code",
   "execution_count": 2,
   "metadata": {},
   "outputs": [],
   "source": [
    "df = pd.read_csv('data.csv', index_col=False)\n",
    "df_copy = df"
   ]
  },
  {
   "cell_type": "code",
   "execution_count": 3,
   "metadata": {},
   "outputs": [
    {
     "data": {
      "text/html": [
       "<div>\n",
       "<style scoped>\n",
       "    .dataframe tbody tr th:only-of-type {\n",
       "        vertical-align: middle;\n",
       "    }\n",
       "\n",
       "    .dataframe tbody tr th {\n",
       "        vertical-align: top;\n",
       "    }\n",
       "\n",
       "    .dataframe thead th {\n",
       "        text-align: right;\n",
       "    }\n",
       "</style>\n",
       "<table border=\"1\" class=\"dataframe\">\n",
       "  <thead>\n",
       "    <tr style=\"text-align: right;\">\n",
       "      <th></th>\n",
       "      <th>Make</th>\n",
       "      <th>Model</th>\n",
       "      <th>Year</th>\n",
       "      <th>Engine Fuel Type</th>\n",
       "      <th>Engine HP</th>\n",
       "      <th>Engine Cylinders</th>\n",
       "      <th>Transmission Type</th>\n",
       "      <th>Driven_Wheels</th>\n",
       "      <th>Number of Doors</th>\n",
       "      <th>Market Category</th>\n",
       "      <th>Vehicle Size</th>\n",
       "      <th>Vehicle Style</th>\n",
       "      <th>highway MPG</th>\n",
       "      <th>city mpg</th>\n",
       "      <th>Popularity</th>\n",
       "      <th>MSRP</th>\n",
       "    </tr>\n",
       "  </thead>\n",
       "  <tbody>\n",
       "    <tr>\n",
       "      <th>0</th>\n",
       "      <td>BMW</td>\n",
       "      <td>1 Series M</td>\n",
       "      <td>2011</td>\n",
       "      <td>premium unleaded (required)</td>\n",
       "      <td>335.0</td>\n",
       "      <td>6.0</td>\n",
       "      <td>MANUAL</td>\n",
       "      <td>rear wheel drive</td>\n",
       "      <td>2.0</td>\n",
       "      <td>Factory Tuner,Luxury,High-Performance</td>\n",
       "      <td>Compact</td>\n",
       "      <td>Coupe</td>\n",
       "      <td>26</td>\n",
       "      <td>19</td>\n",
       "      <td>3916</td>\n",
       "      <td>46135</td>\n",
       "    </tr>\n",
       "    <tr>\n",
       "      <th>1</th>\n",
       "      <td>BMW</td>\n",
       "      <td>1 Series</td>\n",
       "      <td>2011</td>\n",
       "      <td>premium unleaded (required)</td>\n",
       "      <td>300.0</td>\n",
       "      <td>6.0</td>\n",
       "      <td>MANUAL</td>\n",
       "      <td>rear wheel drive</td>\n",
       "      <td>2.0</td>\n",
       "      <td>Luxury,Performance</td>\n",
       "      <td>Compact</td>\n",
       "      <td>Convertible</td>\n",
       "      <td>28</td>\n",
       "      <td>19</td>\n",
       "      <td>3916</td>\n",
       "      <td>40650</td>\n",
       "    </tr>\n",
       "    <tr>\n",
       "      <th>2</th>\n",
       "      <td>BMW</td>\n",
       "      <td>1 Series</td>\n",
       "      <td>2011</td>\n",
       "      <td>premium unleaded (required)</td>\n",
       "      <td>300.0</td>\n",
       "      <td>6.0</td>\n",
       "      <td>MANUAL</td>\n",
       "      <td>rear wheel drive</td>\n",
       "      <td>2.0</td>\n",
       "      <td>Luxury,High-Performance</td>\n",
       "      <td>Compact</td>\n",
       "      <td>Coupe</td>\n",
       "      <td>28</td>\n",
       "      <td>20</td>\n",
       "      <td>3916</td>\n",
       "      <td>36350</td>\n",
       "    </tr>\n",
       "    <tr>\n",
       "      <th>3</th>\n",
       "      <td>BMW</td>\n",
       "      <td>1 Series</td>\n",
       "      <td>2011</td>\n",
       "      <td>premium unleaded (required)</td>\n",
       "      <td>230.0</td>\n",
       "      <td>6.0</td>\n",
       "      <td>MANUAL</td>\n",
       "      <td>rear wheel drive</td>\n",
       "      <td>2.0</td>\n",
       "      <td>Luxury,Performance</td>\n",
       "      <td>Compact</td>\n",
       "      <td>Coupe</td>\n",
       "      <td>28</td>\n",
       "      <td>18</td>\n",
       "      <td>3916</td>\n",
       "      <td>29450</td>\n",
       "    </tr>\n",
       "    <tr>\n",
       "      <th>4</th>\n",
       "      <td>BMW</td>\n",
       "      <td>1 Series</td>\n",
       "      <td>2011</td>\n",
       "      <td>premium unleaded (required)</td>\n",
       "      <td>230.0</td>\n",
       "      <td>6.0</td>\n",
       "      <td>MANUAL</td>\n",
       "      <td>rear wheel drive</td>\n",
       "      <td>2.0</td>\n",
       "      <td>Luxury</td>\n",
       "      <td>Compact</td>\n",
       "      <td>Convertible</td>\n",
       "      <td>28</td>\n",
       "      <td>18</td>\n",
       "      <td>3916</td>\n",
       "      <td>34500</td>\n",
       "    </tr>\n",
       "  </tbody>\n",
       "</table>\n",
       "</div>"
      ],
      "text/plain": [
       "  Make       Model  Year             Engine Fuel Type  Engine HP  \\\n",
       "0  BMW  1 Series M  2011  premium unleaded (required)      335.0   \n",
       "1  BMW    1 Series  2011  premium unleaded (required)      300.0   \n",
       "2  BMW    1 Series  2011  premium unleaded (required)      300.0   \n",
       "3  BMW    1 Series  2011  premium unleaded (required)      230.0   \n",
       "4  BMW    1 Series  2011  premium unleaded (required)      230.0   \n",
       "\n",
       "   Engine Cylinders Transmission Type     Driven_Wheels  Number of Doors  \\\n",
       "0               6.0            MANUAL  rear wheel drive              2.0   \n",
       "1               6.0            MANUAL  rear wheel drive              2.0   \n",
       "2               6.0            MANUAL  rear wheel drive              2.0   \n",
       "3               6.0            MANUAL  rear wheel drive              2.0   \n",
       "4               6.0            MANUAL  rear wheel drive              2.0   \n",
       "\n",
       "                         Market Category Vehicle Size Vehicle Style  \\\n",
       "0  Factory Tuner,Luxury,High-Performance      Compact         Coupe   \n",
       "1                     Luxury,Performance      Compact   Convertible   \n",
       "2                Luxury,High-Performance      Compact         Coupe   \n",
       "3                     Luxury,Performance      Compact         Coupe   \n",
       "4                                 Luxury      Compact   Convertible   \n",
       "\n",
       "   highway MPG  city mpg  Popularity   MSRP  \n",
       "0           26        19        3916  46135  \n",
       "1           28        19        3916  40650  \n",
       "2           28        20        3916  36350  \n",
       "3           28        18        3916  29450  \n",
       "4           28        18        3916  34500  "
      ]
     },
     "execution_count": 3,
     "metadata": {},
     "output_type": "execute_result"
    }
   ],
   "source": [
    "df_copy.head()"
   ]
  },
  {
   "cell_type": "code",
   "execution_count": 4,
   "metadata": {},
   "outputs": [
    {
     "data": {
      "text/html": [
       "<div>\n",
       "<style scoped>\n",
       "    .dataframe tbody tr th:only-of-type {\n",
       "        vertical-align: middle;\n",
       "    }\n",
       "\n",
       "    .dataframe tbody tr th {\n",
       "        vertical-align: top;\n",
       "    }\n",
       "\n",
       "    .dataframe thead th {\n",
       "        text-align: right;\n",
       "    }\n",
       "</style>\n",
       "<table border=\"1\" class=\"dataframe\">\n",
       "  <thead>\n",
       "    <tr style=\"text-align: right;\">\n",
       "      <th></th>\n",
       "      <th>make</th>\n",
       "      <th>model</th>\n",
       "      <th>year</th>\n",
       "      <th>engine_fuel_type</th>\n",
       "      <th>engine_hp</th>\n",
       "      <th>engine_cylinders</th>\n",
       "      <th>transmission_type</th>\n",
       "      <th>driven_wheels</th>\n",
       "      <th>number_of_doors</th>\n",
       "      <th>market_category</th>\n",
       "      <th>vehicle_size</th>\n",
       "      <th>vehicle_style</th>\n",
       "      <th>highway_mpg</th>\n",
       "      <th>city_mpg</th>\n",
       "      <th>popularity</th>\n",
       "      <th>msrp</th>\n",
       "    </tr>\n",
       "  </thead>\n",
       "  <tbody>\n",
       "    <tr>\n",
       "      <th>0</th>\n",
       "      <td>bmw</td>\n",
       "      <td>1_series_m</td>\n",
       "      <td>2011</td>\n",
       "      <td>premium_unleaded_(required)</td>\n",
       "      <td>335.0</td>\n",
       "      <td>6.0</td>\n",
       "      <td>manual</td>\n",
       "      <td>rear_wheel_drive</td>\n",
       "      <td>2.0</td>\n",
       "      <td>factory_tuner,luxury,high-performance</td>\n",
       "      <td>compact</td>\n",
       "      <td>coupe</td>\n",
       "      <td>26</td>\n",
       "      <td>19</td>\n",
       "      <td>3916</td>\n",
       "      <td>46135</td>\n",
       "    </tr>\n",
       "    <tr>\n",
       "      <th>1</th>\n",
       "      <td>bmw</td>\n",
       "      <td>1_series</td>\n",
       "      <td>2011</td>\n",
       "      <td>premium_unleaded_(required)</td>\n",
       "      <td>300.0</td>\n",
       "      <td>6.0</td>\n",
       "      <td>manual</td>\n",
       "      <td>rear_wheel_drive</td>\n",
       "      <td>2.0</td>\n",
       "      <td>luxury,performance</td>\n",
       "      <td>compact</td>\n",
       "      <td>convertible</td>\n",
       "      <td>28</td>\n",
       "      <td>19</td>\n",
       "      <td>3916</td>\n",
       "      <td>40650</td>\n",
       "    </tr>\n",
       "    <tr>\n",
       "      <th>2</th>\n",
       "      <td>bmw</td>\n",
       "      <td>1_series</td>\n",
       "      <td>2011</td>\n",
       "      <td>premium_unleaded_(required)</td>\n",
       "      <td>300.0</td>\n",
       "      <td>6.0</td>\n",
       "      <td>manual</td>\n",
       "      <td>rear_wheel_drive</td>\n",
       "      <td>2.0</td>\n",
       "      <td>luxury,high-performance</td>\n",
       "      <td>compact</td>\n",
       "      <td>coupe</td>\n",
       "      <td>28</td>\n",
       "      <td>20</td>\n",
       "      <td>3916</td>\n",
       "      <td>36350</td>\n",
       "    </tr>\n",
       "    <tr>\n",
       "      <th>3</th>\n",
       "      <td>bmw</td>\n",
       "      <td>1_series</td>\n",
       "      <td>2011</td>\n",
       "      <td>premium_unleaded_(required)</td>\n",
       "      <td>230.0</td>\n",
       "      <td>6.0</td>\n",
       "      <td>manual</td>\n",
       "      <td>rear_wheel_drive</td>\n",
       "      <td>2.0</td>\n",
       "      <td>luxury,performance</td>\n",
       "      <td>compact</td>\n",
       "      <td>coupe</td>\n",
       "      <td>28</td>\n",
       "      <td>18</td>\n",
       "      <td>3916</td>\n",
       "      <td>29450</td>\n",
       "    </tr>\n",
       "    <tr>\n",
       "      <th>4</th>\n",
       "      <td>bmw</td>\n",
       "      <td>1_series</td>\n",
       "      <td>2011</td>\n",
       "      <td>premium_unleaded_(required)</td>\n",
       "      <td>230.0</td>\n",
       "      <td>6.0</td>\n",
       "      <td>manual</td>\n",
       "      <td>rear_wheel_drive</td>\n",
       "      <td>2.0</td>\n",
       "      <td>luxury</td>\n",
       "      <td>compact</td>\n",
       "      <td>convertible</td>\n",
       "      <td>28</td>\n",
       "      <td>18</td>\n",
       "      <td>3916</td>\n",
       "      <td>34500</td>\n",
       "    </tr>\n",
       "  </tbody>\n",
       "</table>\n",
       "</div>"
      ],
      "text/plain": [
       "  make       model  year             engine_fuel_type  engine_hp  \\\n",
       "0  bmw  1_series_m  2011  premium_unleaded_(required)      335.0   \n",
       "1  bmw    1_series  2011  premium_unleaded_(required)      300.0   \n",
       "2  bmw    1_series  2011  premium_unleaded_(required)      300.0   \n",
       "3  bmw    1_series  2011  premium_unleaded_(required)      230.0   \n",
       "4  bmw    1_series  2011  premium_unleaded_(required)      230.0   \n",
       "\n",
       "   engine_cylinders transmission_type     driven_wheels  number_of_doors  \\\n",
       "0               6.0            manual  rear_wheel_drive              2.0   \n",
       "1               6.0            manual  rear_wheel_drive              2.0   \n",
       "2               6.0            manual  rear_wheel_drive              2.0   \n",
       "3               6.0            manual  rear_wheel_drive              2.0   \n",
       "4               6.0            manual  rear_wheel_drive              2.0   \n",
       "\n",
       "                         market_category vehicle_size vehicle_style  \\\n",
       "0  factory_tuner,luxury,high-performance      compact         coupe   \n",
       "1                     luxury,performance      compact   convertible   \n",
       "2                luxury,high-performance      compact         coupe   \n",
       "3                     luxury,performance      compact         coupe   \n",
       "4                                 luxury      compact   convertible   \n",
       "\n",
       "   highway_mpg  city_mpg  popularity   msrp  \n",
       "0           26        19        3916  46135  \n",
       "1           28        19        3916  40650  \n",
       "2           28        20        3916  36350  \n",
       "3           28        18        3916  29450  \n",
       "4           28        18        3916  34500  "
      ]
     },
     "execution_count": 4,
     "metadata": {},
     "output_type": "execute_result"
    }
   ],
   "source": [
    "df_copy.columns = df_copy.columns.str.lower()\n",
    "df_copy.columns = df_copy.columns.str.replace(' ', '_') \n",
    "\n",
    "string_columns = list(df_copy.dtypes[df_copy.dtypes == 'object'].index)\n",
    "for col in string_columns:\n",
    "    df_copy[col] = df_copy[col].str.lower()\n",
    "    df_copy[col] = df_copy[col].str.lower().str.replace(' ', '_')\n",
    "\n",
    "df_copy.head()"
   ]
  },
  {
   "cell_type": "code",
   "execution_count": 5,
   "metadata": {},
   "outputs": [
    {
     "name": "stdout",
     "output_type": "stream",
     "text": [
      "<class 'pandas.core.frame.DataFrame'>\n",
      "RangeIndex: 11914 entries, 0 to 11913\n",
      "Data columns (total 16 columns):\n",
      " #   Column             Non-Null Count  Dtype  \n",
      "---  ------             --------------  -----  \n",
      " 0   make               11914 non-null  object \n",
      " 1   model              11914 non-null  object \n",
      " 2   year               11914 non-null  int64  \n",
      " 3   engine_fuel_type   11911 non-null  object \n",
      " 4   engine_hp          11845 non-null  float64\n",
      " 5   engine_cylinders   11884 non-null  float64\n",
      " 6   transmission_type  11914 non-null  object \n",
      " 7   driven_wheels      11914 non-null  object \n",
      " 8   number_of_doors    11908 non-null  float64\n",
      " 9   market_category    8172 non-null   object \n",
      " 10  vehicle_size       11914 non-null  object \n",
      " 11  vehicle_style      11914 non-null  object \n",
      " 12  highway_mpg        11914 non-null  int64  \n",
      " 13  city_mpg           11914 non-null  int64  \n",
      " 14  popularity         11914 non-null  int64  \n",
      " 15  msrp               11914 non-null  int64  \n",
      "dtypes: float64(3), int64(5), object(8)\n",
      "memory usage: 1.5+ MB\n"
     ]
    }
   ],
   "source": [
    "df_copy.info()"
   ]
  },
  {
   "cell_type": "code",
   "execution_count": 6,
   "metadata": {},
   "outputs": [
    {
     "data": {
      "text/html": [
       "<div>\n",
       "<style scoped>\n",
       "    .dataframe tbody tr th:only-of-type {\n",
       "        vertical-align: middle;\n",
       "    }\n",
       "\n",
       "    .dataframe tbody tr th {\n",
       "        vertical-align: top;\n",
       "    }\n",
       "\n",
       "    .dataframe thead th {\n",
       "        text-align: right;\n",
       "    }\n",
       "</style>\n",
       "<table border=\"1\" class=\"dataframe\">\n",
       "  <thead>\n",
       "    <tr style=\"text-align: right;\">\n",
       "      <th></th>\n",
       "      <th>make</th>\n",
       "      <th>model</th>\n",
       "      <th>year</th>\n",
       "      <th>engine_fuel_type</th>\n",
       "      <th>engine_hp</th>\n",
       "      <th>engine_cylinders</th>\n",
       "      <th>transmission_type</th>\n",
       "      <th>driven_wheels</th>\n",
       "      <th>number_of_doors</th>\n",
       "      <th>market_category</th>\n",
       "      <th>vehicle_size</th>\n",
       "      <th>vehicle_style</th>\n",
       "      <th>highway_mpg</th>\n",
       "      <th>city_mpg</th>\n",
       "      <th>popularity</th>\n",
       "      <th>msrp</th>\n",
       "    </tr>\n",
       "  </thead>\n",
       "  <tbody>\n",
       "    <tr>\n",
       "      <th>14</th>\n",
       "      <td>bmw</td>\n",
       "      <td>1_series</td>\n",
       "      <td>2013</td>\n",
       "      <td>premium_unleaded_(required)</td>\n",
       "      <td>230.0</td>\n",
       "      <td>6.0</td>\n",
       "      <td>manual</td>\n",
       "      <td>rear_wheel_drive</td>\n",
       "      <td>2.0</td>\n",
       "      <td>luxury,performance</td>\n",
       "      <td>compact</td>\n",
       "      <td>coupe</td>\n",
       "      <td>28</td>\n",
       "      <td>19</td>\n",
       "      <td>3916</td>\n",
       "      <td>31500</td>\n",
       "    </tr>\n",
       "    <tr>\n",
       "      <th>18</th>\n",
       "      <td>audi</td>\n",
       "      <td>100</td>\n",
       "      <td>1992</td>\n",
       "      <td>regular_unleaded</td>\n",
       "      <td>172.0</td>\n",
       "      <td>6.0</td>\n",
       "      <td>manual</td>\n",
       "      <td>front_wheel_drive</td>\n",
       "      <td>4.0</td>\n",
       "      <td>luxury</td>\n",
       "      <td>midsize</td>\n",
       "      <td>sedan</td>\n",
       "      <td>24</td>\n",
       "      <td>17</td>\n",
       "      <td>3105</td>\n",
       "      <td>2000</td>\n",
       "    </tr>\n",
       "    <tr>\n",
       "      <th>20</th>\n",
       "      <td>audi</td>\n",
       "      <td>100</td>\n",
       "      <td>1992</td>\n",
       "      <td>regular_unleaded</td>\n",
       "      <td>172.0</td>\n",
       "      <td>6.0</td>\n",
       "      <td>manual</td>\n",
       "      <td>front_wheel_drive</td>\n",
       "      <td>4.0</td>\n",
       "      <td>luxury</td>\n",
       "      <td>midsize</td>\n",
       "      <td>sedan</td>\n",
       "      <td>24</td>\n",
       "      <td>17</td>\n",
       "      <td>3105</td>\n",
       "      <td>2000</td>\n",
       "    </tr>\n",
       "    <tr>\n",
       "      <th>24</th>\n",
       "      <td>audi</td>\n",
       "      <td>100</td>\n",
       "      <td>1993</td>\n",
       "      <td>regular_unleaded</td>\n",
       "      <td>172.0</td>\n",
       "      <td>6.0</td>\n",
       "      <td>manual</td>\n",
       "      <td>front_wheel_drive</td>\n",
       "      <td>4.0</td>\n",
       "      <td>luxury</td>\n",
       "      <td>midsize</td>\n",
       "      <td>sedan</td>\n",
       "      <td>24</td>\n",
       "      <td>17</td>\n",
       "      <td>3105</td>\n",
       "      <td>2000</td>\n",
       "    </tr>\n",
       "    <tr>\n",
       "      <th>25</th>\n",
       "      <td>audi</td>\n",
       "      <td>100</td>\n",
       "      <td>1993</td>\n",
       "      <td>regular_unleaded</td>\n",
       "      <td>172.0</td>\n",
       "      <td>6.0</td>\n",
       "      <td>manual</td>\n",
       "      <td>front_wheel_drive</td>\n",
       "      <td>4.0</td>\n",
       "      <td>luxury</td>\n",
       "      <td>midsize</td>\n",
       "      <td>sedan</td>\n",
       "      <td>24</td>\n",
       "      <td>17</td>\n",
       "      <td>3105</td>\n",
       "      <td>2000</td>\n",
       "    </tr>\n",
       "    <tr>\n",
       "      <th>...</th>\n",
       "      <td>...</td>\n",
       "      <td>...</td>\n",
       "      <td>...</td>\n",
       "      <td>...</td>\n",
       "      <td>...</td>\n",
       "      <td>...</td>\n",
       "      <td>...</td>\n",
       "      <td>...</td>\n",
       "      <td>...</td>\n",
       "      <td>...</td>\n",
       "      <td>...</td>\n",
       "      <td>...</td>\n",
       "      <td>...</td>\n",
       "      <td>...</td>\n",
       "      <td>...</td>\n",
       "      <td>...</td>\n",
       "    </tr>\n",
       "    <tr>\n",
       "      <th>11481</th>\n",
       "      <td>suzuki</td>\n",
       "      <td>x-90</td>\n",
       "      <td>1998</td>\n",
       "      <td>regular_unleaded</td>\n",
       "      <td>95.0</td>\n",
       "      <td>4.0</td>\n",
       "      <td>manual</td>\n",
       "      <td>four_wheel_drive</td>\n",
       "      <td>2.0</td>\n",
       "      <td>NaN</td>\n",
       "      <td>compact</td>\n",
       "      <td>2dr_suv</td>\n",
       "      <td>26</td>\n",
       "      <td>22</td>\n",
       "      <td>481</td>\n",
       "      <td>2000</td>\n",
       "    </tr>\n",
       "    <tr>\n",
       "      <th>11603</th>\n",
       "      <td>volvo</td>\n",
       "      <td>xc60</td>\n",
       "      <td>2017</td>\n",
       "      <td>regular_unleaded</td>\n",
       "      <td>302.0</td>\n",
       "      <td>4.0</td>\n",
       "      <td>automatic</td>\n",
       "      <td>all_wheel_drive</td>\n",
       "      <td>4.0</td>\n",
       "      <td>crossover,luxury,performance</td>\n",
       "      <td>midsize</td>\n",
       "      <td>4dr_suv</td>\n",
       "      <td>29</td>\n",
       "      <td>20</td>\n",
       "      <td>870</td>\n",
       "      <td>46350</td>\n",
       "    </tr>\n",
       "    <tr>\n",
       "      <th>11604</th>\n",
       "      <td>volvo</td>\n",
       "      <td>xc60</td>\n",
       "      <td>2017</td>\n",
       "      <td>regular_unleaded</td>\n",
       "      <td>240.0</td>\n",
       "      <td>4.0</td>\n",
       "      <td>automatic</td>\n",
       "      <td>front_wheel_drive</td>\n",
       "      <td>4.0</td>\n",
       "      <td>crossover,luxury</td>\n",
       "      <td>midsize</td>\n",
       "      <td>4dr_suv</td>\n",
       "      <td>30</td>\n",
       "      <td>23</td>\n",
       "      <td>870</td>\n",
       "      <td>40950</td>\n",
       "    </tr>\n",
       "    <tr>\n",
       "      <th>11708</th>\n",
       "      <td>suzuki</td>\n",
       "      <td>xl7</td>\n",
       "      <td>2008</td>\n",
       "      <td>regular_unleaded</td>\n",
       "      <td>252.0</td>\n",
       "      <td>6.0</td>\n",
       "      <td>automatic</td>\n",
       "      <td>all_wheel_drive</td>\n",
       "      <td>4.0</td>\n",
       "      <td>crossover</td>\n",
       "      <td>midsize</td>\n",
       "      <td>4dr_suv</td>\n",
       "      <td>22</td>\n",
       "      <td>15</td>\n",
       "      <td>481</td>\n",
       "      <td>29149</td>\n",
       "    </tr>\n",
       "    <tr>\n",
       "      <th>11717</th>\n",
       "      <td>suzuki</td>\n",
       "      <td>xl7</td>\n",
       "      <td>2008</td>\n",
       "      <td>regular_unleaded</td>\n",
       "      <td>252.0</td>\n",
       "      <td>6.0</td>\n",
       "      <td>automatic</td>\n",
       "      <td>front_wheel_drive</td>\n",
       "      <td>4.0</td>\n",
       "      <td>crossover</td>\n",
       "      <td>midsize</td>\n",
       "      <td>4dr_suv</td>\n",
       "      <td>22</td>\n",
       "      <td>16</td>\n",
       "      <td>481</td>\n",
       "      <td>27499</td>\n",
       "    </tr>\n",
       "  </tbody>\n",
       "</table>\n",
       "<p>715 rows × 16 columns</p>\n",
       "</div>"
      ],
      "text/plain": [
       "         make     model  year             engine_fuel_type  engine_hp  \\\n",
       "14        bmw  1_series  2013  premium_unleaded_(required)      230.0   \n",
       "18       audi       100  1992             regular_unleaded      172.0   \n",
       "20       audi       100  1992             regular_unleaded      172.0   \n",
       "24       audi       100  1993             regular_unleaded      172.0   \n",
       "25       audi       100  1993             regular_unleaded      172.0   \n",
       "...       ...       ...   ...                          ...        ...   \n",
       "11481  suzuki      x-90  1998             regular_unleaded       95.0   \n",
       "11603   volvo      xc60  2017             regular_unleaded      302.0   \n",
       "11604   volvo      xc60  2017             regular_unleaded      240.0   \n",
       "11708  suzuki       xl7  2008             regular_unleaded      252.0   \n",
       "11717  suzuki       xl7  2008             regular_unleaded      252.0   \n",
       "\n",
       "       engine_cylinders transmission_type      driven_wheels  number_of_doors  \\\n",
       "14                  6.0            manual   rear_wheel_drive              2.0   \n",
       "18                  6.0            manual  front_wheel_drive              4.0   \n",
       "20                  6.0            manual  front_wheel_drive              4.0   \n",
       "24                  6.0            manual  front_wheel_drive              4.0   \n",
       "25                  6.0            manual  front_wheel_drive              4.0   \n",
       "...                 ...               ...                ...              ...   \n",
       "11481               4.0            manual   four_wheel_drive              2.0   \n",
       "11603               4.0         automatic    all_wheel_drive              4.0   \n",
       "11604               4.0         automatic  front_wheel_drive              4.0   \n",
       "11708               6.0         automatic    all_wheel_drive              4.0   \n",
       "11717               6.0         automatic  front_wheel_drive              4.0   \n",
       "\n",
       "                    market_category vehicle_size vehicle_style  highway_mpg  \\\n",
       "14               luxury,performance      compact         coupe           28   \n",
       "18                           luxury      midsize         sedan           24   \n",
       "20                           luxury      midsize         sedan           24   \n",
       "24                           luxury      midsize         sedan           24   \n",
       "25                           luxury      midsize         sedan           24   \n",
       "...                             ...          ...           ...          ...   \n",
       "11481                           NaN      compact       2dr_suv           26   \n",
       "11603  crossover,luxury,performance      midsize       4dr_suv           29   \n",
       "11604              crossover,luxury      midsize       4dr_suv           30   \n",
       "11708                     crossover      midsize       4dr_suv           22   \n",
       "11717                     crossover      midsize       4dr_suv           22   \n",
       "\n",
       "       city_mpg  popularity   msrp  \n",
       "14           19        3916  31500  \n",
       "18           17        3105   2000  \n",
       "20           17        3105   2000  \n",
       "24           17        3105   2000  \n",
       "25           17        3105   2000  \n",
       "...         ...         ...    ...  \n",
       "11481        22         481   2000  \n",
       "11603        20         870  46350  \n",
       "11604        23         870  40950  \n",
       "11708        15         481  29149  \n",
       "11717        16         481  27499  \n",
       "\n",
       "[715 rows x 16 columns]"
      ]
     },
     "execution_count": 6,
     "metadata": {},
     "output_type": "execute_result"
    }
   ],
   "source": [
    "df_copy[df_copy.duplicated()]"
   ]
  },
  {
   "cell_type": "code",
   "execution_count": 7,
   "metadata": {},
   "outputs": [
    {
     "name": "stdout",
     "output_type": "stream",
     "text": [
      "<class 'pandas.core.frame.DataFrame'>\n",
      "Int64Index: 11199 entries, 0 to 11913\n",
      "Data columns (total 16 columns):\n",
      " #   Column             Non-Null Count  Dtype  \n",
      "---  ------             --------------  -----  \n",
      " 0   make               11199 non-null  object \n",
      " 1   model              11199 non-null  object \n",
      " 2   year               11199 non-null  int64  \n",
      " 3   engine_fuel_type   11196 non-null  object \n",
      " 4   engine_hp          11130 non-null  float64\n",
      " 5   engine_cylinders   11169 non-null  float64\n",
      " 6   transmission_type  11199 non-null  object \n",
      " 7   driven_wheels      11199 non-null  object \n",
      " 8   number_of_doors    11193 non-null  float64\n",
      " 9   market_category    7823 non-null   object \n",
      " 10  vehicle_size       11199 non-null  object \n",
      " 11  vehicle_style      11199 non-null  object \n",
      " 12  highway_mpg        11199 non-null  int64  \n",
      " 13  city_mpg           11199 non-null  int64  \n",
      " 14  popularity         11199 non-null  int64  \n",
      " 15  msrp               11199 non-null  int64  \n",
      "dtypes: float64(3), int64(5), object(8)\n",
      "memory usage: 1.5+ MB\n"
     ]
    }
   ],
   "source": [
    "df_copy = df_copy.drop_duplicates(keep='first')\n",
    "df_copy.info()"
   ]
  },
  {
   "cell_type": "code",
   "execution_count": 8,
   "metadata": {},
   "outputs": [
    {
     "data": {
      "text/plain": [
       "make                    0\n",
       "model                   0\n",
       "year                    0\n",
       "engine_fuel_type        3\n",
       "engine_hp              69\n",
       "engine_cylinders       30\n",
       "transmission_type       0\n",
       "driven_wheels           0\n",
       "number_of_doors         6\n",
       "market_category      3376\n",
       "vehicle_size            0\n",
       "vehicle_style           0\n",
       "highway_mpg             0\n",
       "city_mpg                0\n",
       "popularity              0\n",
       "msrp                    0\n",
       "dtype: int64"
      ]
     },
     "execution_count": 8,
     "metadata": {},
     "output_type": "execute_result"
    }
   ],
   "source": [
    "df_copy.isnull().sum()"
   ]
  },
  {
   "cell_type": "code",
   "execution_count": 9,
   "metadata": {},
   "outputs": [
    {
     "data": {
      "text/plain": [
       "array(['bmw', 'audi', 'fiat', 'mercedes-benz', 'chrysler', 'nissan',\n",
       "       'volvo', 'mazda', 'mitsubishi', 'ferrari', 'alfa_romeo', 'toyota',\n",
       "       'mclaren', 'maybach', 'pontiac', 'porsche', 'saab', 'gmc',\n",
       "       'hyundai', 'plymouth', 'honda', 'oldsmobile', 'suzuki', 'ford',\n",
       "       'cadillac', 'kia', 'bentley', 'chevrolet', 'dodge', 'lamborghini',\n",
       "       'lincoln', 'subaru', 'volkswagen', 'spyker', 'buick', 'acura',\n",
       "       'rolls-royce', 'maserati', 'lexus', 'aston_martin', 'land_rover',\n",
       "       'lotus', 'infiniti', 'scion', 'genesis', 'hummer', 'tesla',\n",
       "       'bugatti'], dtype=object)"
      ]
     },
     "execution_count": 9,
     "metadata": {},
     "output_type": "execute_result"
    }
   ],
   "source": [
    "df_copy.make.unique()  "
   ]
  },
  {
   "cell_type": "code",
   "execution_count": 10,
   "metadata": {},
   "outputs": [
    {
     "data": {
      "text/plain": [
       "array(['1_series_m', '1_series', '100', '124_spider', '190-class',\n",
       "       '2_series', '200', '200sx', '240sx', '240', '2',\n",
       "       '3_series_gran_turismo', '3_series', '300-class', '3000gt', '300',\n",
       "       '300m', '300zx', '323', '350-class', '350z', '360', '370z', '3',\n",
       "       '4_series_gran_coupe', '4_series', '400-class', '420-class',\n",
       "       '456m', '458_italia', '4c', '4runner', '5_series_gran_turismo',\n",
       "       '5_series', '500-class', '500e', '500', '500l', '500x', '550',\n",
       "       '560-class', '570s', '575m', '57', '599', '5',\n",
       "       '6_series_gran_coupe', '6_series', '600-class', '6000',\n",
       "       '612_scaglietti', '626', '62', '650s_coupe', '650s_spider', '6',\n",
       "       '7_series', '718_cayman', '740', '760', '780', '8_series', '80',\n",
       "       '850', '86', '9-2x', '9-3_griffin', '9-3', '9-4x', '9-5', '9-7x',\n",
       "       '9000', '900', '90', '911', '928', '929', '940', '944', '960',\n",
       "       '968', 'a3', 'a4_allroad', 'a4', 'a5', 'a6', 'a7', 'a8',\n",
       "       'acadia_limited', 'acadia', 'accent', 'acclaim',\n",
       "       'accord_crosstour', 'accord_hybrid', 'accord_plug-in_hybrid',\n",
       "       'accord', 'achieva', 'activehybrid_5', 'activehybrid_7',\n",
       "       'activehybrid_x6', 'aerio', 'aerostar', 'alero', 'allante',\n",
       "       'allroad_quattro', 'allroad', 'alpina_b6_gran_coupe', 'alpina_b7',\n",
       "       'alpina', 'altima_hybrid', 'altima', 'amanti', 'amg_gt', 'armada',\n",
       "       'arnage', 'aspen', 'aspire', 'astro_cargo', 'astro', 'ats_coupe',\n",
       "       'ats-v', 'ats', 'aurora', 'avalanche', 'avalon_hybrid', 'avalon',\n",
       "       'avenger', 'aventador', 'aveo', 'aviator', 'axxess', 'azera',\n",
       "       'aztek', 'azure_t', 'azure', 'b-class_electric_drive',\n",
       "       'b-series_pickup', 'b-series_truck', 'b-series', 'b9_tribeca',\n",
       "       'baja', 'beetle_convertible', 'beetle', 'beretta',\n",
       "       'black_diamond_avalanche', 'blackwood', 'blazer', 'bolt_ev',\n",
       "       'bonneville', 'borrego', 'boxster', 'bravada', 'breeze',\n",
       "       'bronco_ii', 'bronco', 'brooklands', 'brougham', 'brz', 'c-class',\n",
       "       'c-max_hybrid', 'c30', 'c36_amg', 'c43_amg', 'c70', 'c8',\n",
       "       'cabriolet', 'cabrio', 'cadenza', 'caliber', 'california_t',\n",
       "       'california', 'camaro', 'camry_hybrid', 'camry_solara', 'camry',\n",
       "       'canyon', 'caprice', 'captiva_sport', 'caravan', 'carrera_gt',\n",
       "       'cascada', 'catera', 'cavalier', 'cayenne', 'cayman_s', 'cayman',\n",
       "       'cc', 'celebrity', 'celica', 'century', 'challenger', 'charger',\n",
       "       'chevy_van', 'ciera', 'cirrus', 'city_express', 'civic_crx',\n",
       "       'civic_del_sol', 'civic', 'c/k_1500_series', 'c/k_2500_series',\n",
       "       'cl-class', 'cla-class', 'cl', 'classic', 'clk-class', 'cls-class',\n",
       "       'cobalt', 'colorado', 'colt', 'concorde',\n",
       "       'continental_flying_spur_speed', 'continental_flying_spur',\n",
       "       'continental_gt_speed_convertible', 'continental_gt_speed',\n",
       "       'continental_gt3-r', 'continental_gt', 'continental_gtc_speed',\n",
       "       'continental_gtc', 'continental_supersports_convertible',\n",
       "       'continental_supersports', 'continental', 'contour_svt', 'contour',\n",
       "       'corniche', 'corolla_im', 'corolla', 'corrado', 'corsica',\n",
       "       'corvette_stingray', 'corvette', 'coupe', 'cr-v', 'cr-z',\n",
       "       'cressida', 'crossfire', 'crosstour', 'crosstrek',\n",
       "       'crown_victoria', 'cruze_limited', 'cruze', 'ct_200h', 'ct6',\n",
       "       'cts_coupe', 'cts-v_coupe', 'cts-v_wagon', 'cts-v', 'cts_wagon',\n",
       "       'cts', 'cube', 'custom_cruiser', 'cutlass_calais', 'cutlass_ciera',\n",
       "       'cutlass_supreme', 'cutlass', 'cx-3', 'cx-5', 'cx-7', 'cx-9',\n",
       "       'dakota', 'dart', 'dawn', 'daytona', 'db7', 'db9_gt', 'db9', 'dbs',\n",
       "       'defender', 'deville', 'diablo', 'diamante', 'discovery_series_ii',\n",
       "       'discovery_sport', 'discovery', 'dts', 'durango', 'dynasty',\n",
       "       'e-150', 'e-250', 'e-class', 'e-golf', 'e-series_van',\n",
       "       'e-series_wagon', 'e55_amg', 'echo', 'eclipse_spyder', 'eclipse',\n",
       "       'edge', 'eighty-eight_royale', 'eighty-eight', 'elantra_coupe',\n",
       "       'elantra_gt', 'elantra_touring', 'elantra', 'eldorado', 'electra',\n",
       "       'element', 'elise', 'enclave', 'encore', 'endeavor', 'entourage',\n",
       "       'envision', 'envoy_xl', 'envoy_xuv', 'envoy', 'enzo', 'eos',\n",
       "       'equator', 'equinox', 'equus', 'es_250', 'es_300h', 'es_300',\n",
       "       'es_330', 'es_350', 'escalade_esv', 'escalade_ext',\n",
       "       'escalade_hybrid', 'escalade', 'escape_hybrid', 'escape', 'escort',\n",
       "       'esprit', 'estate_wagon', 'esteem', 'eurovan', 'evora_400',\n",
       "       'evora', 'ex35', 'excel', 'exige', 'ex', 'expedition',\n",
       "       'explorer_sport_trac', 'explorer_sport', 'explorer', 'expo',\n",
       "       'express_cargo', 'express', 'f-150_heritage',\n",
       "       'f-150_svt_lightning', 'f-150', 'f-250', 'f12_berlinetta', 'f430',\n",
       "       'festiva', 'ff', 'fiesta', 'firebird', 'fit_ev', 'fit',\n",
       "       'five_hundred', 'fj_cruiser', 'fleetwood', 'flex', 'flying_spur',\n",
       "       'focus_rs', 'focus_st', 'focus', 'forenza', 'forester', 'forte',\n",
       "       'fox', 'fr-s', 'freelander', 'freestar', 'freestyle', 'frontier',\n",
       "       'fusion_hybrid', 'fusion', 'fx35', 'fx45', 'fx50', 'fx', 'g-class',\n",
       "       'g_convertible', 'g_coupe', 'g_sedan', 'g20', 'g35',\n",
       "       'g37_convertible', 'g37_coupe', 'g37_sedan', 'g37', 'g3', 'g5',\n",
       "       'g6', 'g80', 'g8', 'galant', 'gallardo', 'genesis_coupe',\n",
       "       'genesis', 'ghibli', 'ghost_series_ii', 'ghost', 'gl-class',\n",
       "       'gla-class', 'glc-class', 'gle-class_coupe', 'gle-class', 'gli',\n",
       "       'glk-class', 'gls-class', 'golf_alltrack', 'golf_gti', 'golf_r',\n",
       "       'golf_sportwagen', 'golf', 'grand_am', 'grand_caravan',\n",
       "       'grand_prix', 'grand_vitara', 'grand_voyager', 'gransport',\n",
       "       'granturismo_convertible', 'granturismo', 'gs_200t', 'gs_300',\n",
       "       'gs_350', 'gs_400', 'gs_430', 'gs_450h', 'gs_460', 'gs_f', 'gt-r',\n",
       "       'gt', 'gti', 'gto', 'gx_460', 'gx_470', 'h3', 'h3t', 'hhr',\n",
       "       'highlander_hybrid', 'highlander', 'horizon', 'hr-v', 'hs_250h',\n",
       "       'huracan', 'i-miev', 'i30', 'i35', 'i3', 'ia', 'ilx_hybrid', 'ilx',\n",
       "       'impala_limited', 'impala', 'imperial', 'impreza_wrx', 'impreza',\n",
       "       'im', 'insight', 'integra', 'intrepid', 'intrigue', 'iq',\n",
       "       'is_200t', 'is_250_c', 'is_250', 'is_300', 'is_350_c', 'is_350',\n",
       "       'is_f', 'j30', 'jetta_gli', 'jetta_hybrid', 'jetta_sportwagen',\n",
       "       'jetta', 'jimmy', 'journey', 'juke', 'justy', 'jx', 'k900',\n",
       "       'kizashi', 'lacrosse', 'lancer_evolution', 'lancer_sportback',\n",
       "       'lancer', 'land_cruiser', 'landaulet', 'laser', 'le_baron',\n",
       "       'le_mans', 'leaf', 'legacy', 'legend', 'lesabre', 'levante', 'lfa',\n",
       "       'lhs', 'loyale', 'lr2', 'lr3', 'lr4', 'ls_400', 'ls_430', 'ls_460',\n",
       "       'ls_600h_l', 'ls', 'lss', 'ltd_crown_victoria', 'lucerne',\n",
       "       'lumina_minivan', 'lumina', 'lx_450', 'lx_470', 'lx_570',\n",
       "       'm-class', 'm2', 'm30', 'm35', 'm37', 'm3', 'm4_gts', 'm45', 'm4',\n",
       "       'm56', 'm5', 'm6_gran_coupe', 'm6', 'macan', 'magnum',\n",
       "       'malibu_classic', 'malibu_hybrid', 'malibu_limited', 'malibu_maxx',\n",
       "       'malibu', 'mark_lt', 'mark_viii', 'mark_vii', 'matrix', 'maxima',\n",
       "       'maybach', 'mazdaspeed_3', 'mazdaspeed_6', 'mazdaspeed_mx-5_miata',\n",
       "       'mazdaspeed_protege', 'm', 'mdx', 'metris', 'metro',\n",
       "       'mighty_max_pickup', 'millenia', 'mirage_g4', 'mirage', 'mkc',\n",
       "       'mks', 'mkt', 'mkx', 'mkz_hybrid', 'mkz', 'ml55_amg', 'model_s',\n",
       "       'monaco', 'montana_sv6', 'montana', 'monte_carlo', 'montero_sport',\n",
       "       'montero', 'mp4-12c', 'mpv', 'mr2_spyder', 'mr2', 'mulsanne',\n",
       "       'murano_crosscabriolet', 'murano', 'murcielago',\n",
       "       'mustang_svt_cobra', 'mustang', 'mx-3', 'mx-5_miata', 'mx-6',\n",
       "       'navajo', 'navigator', 'neon', 'new_beetle', 'new_yorker',\n",
       "       'ninety-eight', 'nitro', 'nsx', 'nv200', 'nx_200t', 'nx_300h',\n",
       "       'nx', 'odyssey', 'omni', 'optima_hybrid', 'optima', 'outback',\n",
       "       'outlander_sport', 'outlander', 'pacifica', 'panamera',\n",
       "       'park_avenue', 'park_ward', 'paseo', 'passat', 'passport',\n",
       "       'pathfinder', 'phaeton', 'phantom_coupe', 'phantom_drophead_coupe',\n",
       "       'phantom', 'pickup', 'pilot', 'precis', 'prelude', 'previa',\n",
       "       'prius_c', 'prius_prime', 'prius_v', 'prius', 'prizm', 'probe',\n",
       "       'protege5', 'protege', 'prowler', 'pt_cruiser', 'pulsar', 'q3',\n",
       "       'q40', 'q45', 'q50', 'q5', 'q60_convertible', 'q60_coupe', 'q70',\n",
       "       'q7', 'quattroporte', 'quest', 'qx4', 'qx50', 'qx56', 'qx60',\n",
       "       'qx70', 'qx80', 'qx', 'r-class', 'r32', 'r8', 'rabbit', 'raider',\n",
       "       'rainier', 'rally_wagon', 'ram_150', 'ram_250', 'ram_50_pickup',\n",
       "       'ram_cargo', 'ram_pickup_1500', 'ram_van', 'ram_wagon',\n",
       "       'ramcharger', 'range_rover_evoque', 'range_rover_sport',\n",
       "       'range_rover', 'ranger', 'rapide_s', 'rapide', 'rav4_ev',\n",
       "       'rav4_hybrid', 'rav4', 'rc_200t', 'rc_300', 'rc_350', 'rc_f',\n",
       "       'rdx', 'reatta', 'regal', 'regency', 'rendezvous', 'reno',\n",
       "       'reventon', 'ridgeline', 'rio', 'riviera', 'rl', 'rlx',\n",
       "       'roadmaster', 'rogue_select', 'rogue', 'rondo', 'routan', 'rs_4',\n",
       "       'rs_5', 'rs_6', 'rs_7', 'rsx', 'rx_300', 'rx_330', 'rx_350',\n",
       "       'rx_400h', 'rx_450h', 'rx-7', 'rx-8', 's-10_blazer', 's-10',\n",
       "       's-15_jimmy', 's-15', 's-class', 's2000', 's3', 's40', 's4', 's5',\n",
       "       's60_cross_country', 's60', 's6', 's70', 's7', 's80', 's8', 's90',\n",
       "       'safari_cargo', 'safari', 'samurai', 'santa_fe_sport', 'santa_fe',\n",
       "       'savana_cargo', 'savana', 'sc_300', 'sc_400', 'sc_430', 'scoupe',\n",
       "       'sebring', 'sedona', 'sentra', 'sephia', 'sequoia', 'seville',\n",
       "       'shadow', 'shelby_gt350', 'shelby_gt500', 'sidekick', 'sienna',\n",
       "       'sierra_1500_classic', 'sierra_1500_hybrid', 'sierra_1500',\n",
       "       'sierra_1500hd', 'sierra_c3', 'sierra_classic_1500', 'sigma',\n",
       "       'silhouette', 'silver_seraph', 'silverado_1500_classic',\n",
       "       'silverado_1500_hybrid', 'silverado_1500', 'sixty_special',\n",
       "       'skylark', 'sl-class', 'slc-class', 'slk-class', 'slr_mclaren',\n",
       "       'sls_amg_gt_final_edition', 'sls_amg_gt', 'sls_amg', 'slx',\n",
       "       'solstice', 'sonata_hybrid', 'sonata', 'sonic', 'sonoma',\n",
       "       'sorento', 'soul_ev', 'soul', 'spark_ev', 'spark', 'spectra',\n",
       "       'spirit', 'sportage', 'sportvan', 'spyder', 'sq5', 'srt_viper',\n",
       "       'srx', 'ss', 'ssr', 'stanza', 'stealth', 'stratus', 'sts-v', 'sts',\n",
       "       'suburban', 'sunbird', 'sundance', 'sunfire', 'superamerica',\n",
       "       'supersports_convertible_isr', 'supra', 'svx', 'swift', 'sx4',\n",
       "       'syclone', 't100', 'tacoma', 'tahoe_hybrid', 'tahoe_limited/z71',\n",
       "       'tahoe', 'taurus_x', 'taurus', 'tc', 'tempo', 'tercel', 'terrain',\n",
       "       'terraza', 'thunderbird', 'tiburon', 'tiguan', 'titan', 'tl',\n",
       "       'tlx', 'toronado', 'torrent', 'touareg_2', 'touareg',\n",
       "       'town_and_country', 'town_car', 'tracker', 'trailblazer_ext',\n",
       "       'trailblazer', 'trans_sport', 'transit_connect', 'transit_wagon',\n",
       "       'traverse', 'trax', 'tribeca', 'tribute_hybrid', 'tribute',\n",
       "       'truck', 'tsx_sport_wagon', 'tsx', 'tt_rs', 'tt', 'tts', 'tucson',\n",
       "       'tundra', 'typhoon', 'uplander', 'v12_vanquish', 'v12_vantage_s',\n",
       "       'v12_vantage', 'v40', 'v50', 'v60_cross_country', 'v60', 'v70',\n",
       "       'v8_vantage', 'v8', 'v90', 'vanagon', 'vandura', 'van', 'vanquish',\n",
       "       'vanwagon', 'veloster', 'venture', 'venza', 'veracruz', 'verano',\n",
       "       'verona', 'versa_note', 'versa', 'veyron_16.4', 'vibe', 'vigor',\n",
       "       'viper', 'virage', 'vitara', 'voyager', 'windstar_cargo',\n",
       "       'windstar', 'wraith', 'wrx', 'x-90', 'x1', 'x3', 'x4', 'x5_m',\n",
       "       'x5', 'x6_m', 'x6', 'xa', 'xb', 'xc60', 'xc70', 'xc90', 'xc', 'xd',\n",
       "       'xg300', 'xg350', 'xl-7', 'xl7', 'xlr-v', 'xlr', 'xt5', 'xterra',\n",
       "       'xts', 'xt', 'xv_crosstrek', 'yaris_ia', 'yaris', 'yukon_denali',\n",
       "       'yukon_hybrid', 'yukon_xl', 'yukon', 'z3', 'z4_m', 'z4', 'z8',\n",
       "       'zdx', 'zephyr'], dtype=object)"
      ]
     },
     "execution_count": 10,
     "metadata": {},
     "output_type": "execute_result"
    }
   ],
   "source": [
    "df_copy.model.unique()  "
   ]
  },
  {
   "cell_type": "code",
   "execution_count": 11,
   "metadata": {},
   "outputs": [
    {
     "data": {
      "text/plain": [
       "array(['premium_unleaded_(required)', 'regular_unleaded',\n",
       "       'premium_unleaded_(recommended)', 'flex-fuel_(unleaded/e85)',\n",
       "       'diesel', 'electric',\n",
       "       'flex-fuel_(premium_unleaded_recommended/e85)', 'natural_gas',\n",
       "       'flex-fuel_(premium_unleaded_required/e85)',\n",
       "       'flex-fuel_(unleaded/natural_gas)', nan], dtype=object)"
      ]
     },
     "execution_count": 11,
     "metadata": {},
     "output_type": "execute_result"
    }
   ],
   "source": [
    "df_copy.engine_fuel_type.unique()"
   ]
  },
  {
   "cell_type": "code",
   "execution_count": 12,
   "metadata": {},
   "outputs": [
    {
     "data": {
      "text/plain": [
       "array(['manual', 'automatic', 'automated_manual', 'direct_drive',\n",
       "       'unknown'], dtype=object)"
      ]
     },
     "execution_count": 12,
     "metadata": {},
     "output_type": "execute_result"
    }
   ],
   "source": [
    "df_copy.transmission_type.unique()"
   ]
  },
  {
   "cell_type": "code",
   "execution_count": 13,
   "metadata": {},
   "outputs": [
    {
     "data": {
      "text/plain": [
       "array(['rear_wheel_drive', 'front_wheel_drive', 'all_wheel_drive',\n",
       "       'four_wheel_drive'], dtype=object)"
      ]
     },
     "execution_count": 13,
     "metadata": {},
     "output_type": "execute_result"
    }
   ],
   "source": [
    "df_copy.driven_wheels.unique()"
   ]
  },
  {
   "cell_type": "code",
   "execution_count": 14,
   "metadata": {},
   "outputs": [
    {
     "data": {
      "text/plain": [
       "array(['compact', 'midsize', 'large'], dtype=object)"
      ]
     },
     "execution_count": 14,
     "metadata": {},
     "output_type": "execute_result"
    }
   ],
   "source": [
    "df_copy.vehicle_size.unique()"
   ]
  },
  {
   "cell_type": "code",
   "execution_count": 15,
   "metadata": {},
   "outputs": [
    {
     "data": {
      "text/plain": [
       "array(['coupe', 'convertible', 'sedan', 'wagon', '4dr_hatchback',\n",
       "       '2dr_hatchback', '4dr_suv', 'passenger_minivan', 'cargo_minivan',\n",
       "       'crew_cab_pickup', 'regular_cab_pickup', 'extended_cab_pickup',\n",
       "       '2dr_suv', 'cargo_van', 'convertible_suv', 'passenger_van'],\n",
       "      dtype=object)"
      ]
     },
     "execution_count": 15,
     "metadata": {},
     "output_type": "execute_result"
    }
   ],
   "source": [
    "df_copy.vehicle_style.unique()"
   ]
  },
  {
   "cell_type": "code",
   "execution_count": 16,
   "metadata": {},
   "outputs": [
    {
     "data": {
      "text/plain": [
       "array(['factory_tuner,luxury,high-performance', 'luxury,performance',\n",
       "       'luxury,high-performance', 'luxury', 'performance', 'flex_fuel',\n",
       "       'flex_fuel,performance', nan, 'hatchback',\n",
       "       'hatchback,luxury,performance', 'hatchback,luxury',\n",
       "       'luxury,high-performance,hybrid', 'diesel,luxury',\n",
       "       'hatchback,performance', 'hatchback,factory_tuner,performance',\n",
       "       'high-performance', 'factory_tuner,high-performance',\n",
       "       'exotic,high-performance', 'exotic,factory_tuner,high-performance',\n",
       "       'factory_tuner,performance', 'crossover', 'exotic,luxury',\n",
       "       'exotic,luxury,high-performance', 'exotic,luxury,performance',\n",
       "       'factory_tuner,luxury,performance', 'flex_fuel,luxury',\n",
       "       'crossover,luxury', 'hatchback,factory_tuner,luxury,performance',\n",
       "       'crossover,hatchback', 'hybrid', 'luxury,performance,hybrid',\n",
       "       'crossover,luxury,performance,hybrid',\n",
       "       'crossover,luxury,performance',\n",
       "       'exotic,factory_tuner,luxury,high-performance',\n",
       "       'flex_fuel,luxury,high-performance', 'crossover,flex_fuel',\n",
       "       'diesel', 'hatchback,diesel', 'crossover,luxury,diesel',\n",
       "       'crossover,luxury,high-performance',\n",
       "       'exotic,flex_fuel,factory_tuner,luxury,high-performance',\n",
       "       'exotic,flex_fuel,luxury,high-performance',\n",
       "       'exotic,factory_tuner,luxury,performance', 'hatchback,hybrid',\n",
       "       'crossover,hybrid', 'hatchback,luxury,hybrid',\n",
       "       'flex_fuel,luxury,performance', 'crossover,performance',\n",
       "       'luxury,hybrid', 'crossover,flex_fuel,luxury,performance',\n",
       "       'crossover,flex_fuel,luxury', 'crossover,flex_fuel,performance',\n",
       "       'hatchback,factory_tuner,high-performance', 'hatchback,flex_fuel',\n",
       "       'factory_tuner,luxury',\n",
       "       'crossover,factory_tuner,luxury,high-performance',\n",
       "       'crossover,factory_tuner,luxury,performance',\n",
       "       'crossover,hatchback,factory_tuner,performance',\n",
       "       'crossover,hatchback,performance', 'flex_fuel,hybrid',\n",
       "       'flex_fuel,performance,hybrid',\n",
       "       'crossover,exotic,luxury,high-performance',\n",
       "       'crossover,exotic,luxury,performance', 'exotic,performance',\n",
       "       'exotic,luxury,high-performance,hybrid', 'crossover,luxury,hybrid',\n",
       "       'flex_fuel,factory_tuner,luxury,high-performance',\n",
       "       'performance,hybrid', 'crossover,factory_tuner,performance',\n",
       "       'crossover,diesel', 'flex_fuel,diesel',\n",
       "       'crossover,hatchback,luxury'], dtype=object)"
      ]
     },
     "execution_count": 16,
     "metadata": {},
     "output_type": "execute_result"
    }
   ],
   "source": [
    "df_copy.market_category.unique()"
   ]
  },
  {
   "cell_type": "code",
   "execution_count": 17,
   "metadata": {},
   "outputs": [
    {
     "data": {
      "text/html": [
       "<div>\n",
       "<style scoped>\n",
       "    .dataframe tbody tr th:only-of-type {\n",
       "        vertical-align: middle;\n",
       "    }\n",
       "\n",
       "    .dataframe tbody tr th {\n",
       "        vertical-align: top;\n",
       "    }\n",
       "\n",
       "    .dataframe thead th {\n",
       "        text-align: right;\n",
       "    }\n",
       "</style>\n",
       "<table border=\"1\" class=\"dataframe\">\n",
       "  <thead>\n",
       "    <tr style=\"text-align: right;\">\n",
       "      <th></th>\n",
       "      <th>make</th>\n",
       "      <th>year</th>\n",
       "      <th>engine_fuel_type</th>\n",
       "      <th>engine_hp</th>\n",
       "      <th>engine_cylinders</th>\n",
       "      <th>transmission_type</th>\n",
       "      <th>driven_wheels</th>\n",
       "      <th>number_of_doors</th>\n",
       "      <th>vehicle_size</th>\n",
       "      <th>vehicle_style</th>\n",
       "      <th>highway_mpg</th>\n",
       "      <th>city_mpg</th>\n",
       "      <th>popularity</th>\n",
       "      <th>msrp</th>\n",
       "    </tr>\n",
       "  </thead>\n",
       "  <tbody>\n",
       "    <tr>\n",
       "      <th>0</th>\n",
       "      <td>bmw</td>\n",
       "      <td>2011</td>\n",
       "      <td>premium_unleaded_(required)</td>\n",
       "      <td>335.0</td>\n",
       "      <td>6.0</td>\n",
       "      <td>manual</td>\n",
       "      <td>rear_wheel_drive</td>\n",
       "      <td>2.0</td>\n",
       "      <td>compact</td>\n",
       "      <td>coupe</td>\n",
       "      <td>26</td>\n",
       "      <td>19</td>\n",
       "      <td>3916</td>\n",
       "      <td>46135</td>\n",
       "    </tr>\n",
       "    <tr>\n",
       "      <th>1</th>\n",
       "      <td>bmw</td>\n",
       "      <td>2011</td>\n",
       "      <td>premium_unleaded_(required)</td>\n",
       "      <td>300.0</td>\n",
       "      <td>6.0</td>\n",
       "      <td>manual</td>\n",
       "      <td>rear_wheel_drive</td>\n",
       "      <td>2.0</td>\n",
       "      <td>compact</td>\n",
       "      <td>convertible</td>\n",
       "      <td>28</td>\n",
       "      <td>19</td>\n",
       "      <td>3916</td>\n",
       "      <td>40650</td>\n",
       "    </tr>\n",
       "    <tr>\n",
       "      <th>2</th>\n",
       "      <td>bmw</td>\n",
       "      <td>2011</td>\n",
       "      <td>premium_unleaded_(required)</td>\n",
       "      <td>300.0</td>\n",
       "      <td>6.0</td>\n",
       "      <td>manual</td>\n",
       "      <td>rear_wheel_drive</td>\n",
       "      <td>2.0</td>\n",
       "      <td>compact</td>\n",
       "      <td>coupe</td>\n",
       "      <td>28</td>\n",
       "      <td>20</td>\n",
       "      <td>3916</td>\n",
       "      <td>36350</td>\n",
       "    </tr>\n",
       "    <tr>\n",
       "      <th>3</th>\n",
       "      <td>bmw</td>\n",
       "      <td>2011</td>\n",
       "      <td>premium_unleaded_(required)</td>\n",
       "      <td>230.0</td>\n",
       "      <td>6.0</td>\n",
       "      <td>manual</td>\n",
       "      <td>rear_wheel_drive</td>\n",
       "      <td>2.0</td>\n",
       "      <td>compact</td>\n",
       "      <td>coupe</td>\n",
       "      <td>28</td>\n",
       "      <td>18</td>\n",
       "      <td>3916</td>\n",
       "      <td>29450</td>\n",
       "    </tr>\n",
       "    <tr>\n",
       "      <th>4</th>\n",
       "      <td>bmw</td>\n",
       "      <td>2011</td>\n",
       "      <td>premium_unleaded_(required)</td>\n",
       "      <td>230.0</td>\n",
       "      <td>6.0</td>\n",
       "      <td>manual</td>\n",
       "      <td>rear_wheel_drive</td>\n",
       "      <td>2.0</td>\n",
       "      <td>compact</td>\n",
       "      <td>convertible</td>\n",
       "      <td>28</td>\n",
       "      <td>18</td>\n",
       "      <td>3916</td>\n",
       "      <td>34500</td>\n",
       "    </tr>\n",
       "  </tbody>\n",
       "</table>\n",
       "</div>"
      ],
      "text/plain": [
       "  make  year             engine_fuel_type  engine_hp  engine_cylinders  \\\n",
       "0  bmw  2011  premium_unleaded_(required)      335.0               6.0   \n",
       "1  bmw  2011  premium_unleaded_(required)      300.0               6.0   \n",
       "2  bmw  2011  premium_unleaded_(required)      300.0               6.0   \n",
       "3  bmw  2011  premium_unleaded_(required)      230.0               6.0   \n",
       "4  bmw  2011  premium_unleaded_(required)      230.0               6.0   \n",
       "\n",
       "  transmission_type     driven_wheels  number_of_doors vehicle_size  \\\n",
       "0            manual  rear_wheel_drive              2.0      compact   \n",
       "1            manual  rear_wheel_drive              2.0      compact   \n",
       "2            manual  rear_wheel_drive              2.0      compact   \n",
       "3            manual  rear_wheel_drive              2.0      compact   \n",
       "4            manual  rear_wheel_drive              2.0      compact   \n",
       "\n",
       "  vehicle_style  highway_mpg  city_mpg  popularity   msrp  \n",
       "0         coupe           26        19        3916  46135  \n",
       "1   convertible           28        19        3916  40650  \n",
       "2         coupe           28        20        3916  36350  \n",
       "3         coupe           28        18        3916  29450  \n",
       "4   convertible           28        18        3916  34500  "
      ]
     },
     "execution_count": 17,
     "metadata": {},
     "output_type": "execute_result"
    }
   ],
   "source": [
    "df_copy = df_copy.drop('model', axis = 1)\n",
    "df_copy = df_copy.drop('market_category', axis = 1)\n",
    "df_copy.head()"
   ]
  },
  {
   "cell_type": "code",
   "execution_count": 18,
   "metadata": {},
   "outputs": [
    {
     "name": "stdout",
     "output_type": "stream",
     "text": [
      "<class 'pandas.core.frame.DataFrame'>\n",
      "Int64Index: 11199 entries, 0 to 11913\n",
      "Data columns (total 14 columns):\n",
      " #   Column             Non-Null Count  Dtype   \n",
      "---  ------             --------------  -----   \n",
      " 0   make               11199 non-null  category\n",
      " 1   year               11199 non-null  int64   \n",
      " 2   engine_fuel_type   11196 non-null  category\n",
      " 3   engine_hp          11130 non-null  float64 \n",
      " 4   engine_cylinders   11169 non-null  float64 \n",
      " 5   transmission_type  11199 non-null  category\n",
      " 6   driven_wheels      11199 non-null  category\n",
      " 7   number_of_doors    11193 non-null  float64 \n",
      " 8   vehicle_size       11199 non-null  category\n",
      " 9   vehicle_style      11199 non-null  category\n",
      " 10  highway_mpg        11199 non-null  int64   \n",
      " 11  city_mpg           11199 non-null  int64   \n",
      " 12  popularity         11199 non-null  int64   \n",
      " 13  msrp               11199 non-null  int64   \n",
      "dtypes: category(6), float64(3), int64(5)\n",
      "memory usage: 856.0 KB\n"
     ]
    }
   ],
   "source": [
    "df_copy = df_copy.astype({'make':'category', 'engine_fuel_type':'category', 'transmission_type':'category', 'driven_wheels':'category','vehicle_size':'category', 'transmission_type':'category', 'vehicle_style':'category'})\n",
    "df_copy.info()"
   ]
  },
  {
   "cell_type": "code",
   "execution_count": 19,
   "metadata": {},
   "outputs": [
    {
     "name": "stdout",
     "output_type": "stream",
     "text": [
      "<class 'pandas.core.frame.DataFrame'>\n",
      "Int64Index: 11190 entries, 0 to 11913\n",
      "Data columns (total 14 columns):\n",
      " #   Column             Non-Null Count  Dtype   \n",
      "---  ------             --------------  -----   \n",
      " 0   make               11190 non-null  category\n",
      " 1   year               11190 non-null  int64   \n",
      " 2   engine_fuel_type   11190 non-null  category\n",
      " 3   engine_hp          11126 non-null  float64 \n",
      " 4   engine_cylinders   11160 non-null  float64 \n",
      " 5   transmission_type  11190 non-null  category\n",
      " 6   driven_wheels      11190 non-null  category\n",
      " 7   number_of_doors    11190 non-null  float64 \n",
      " 8   vehicle_size       11190 non-null  category\n",
      " 9   vehicle_style      11190 non-null  category\n",
      " 10  highway_mpg        11190 non-null  int64   \n",
      " 11  city_mpg           11190 non-null  int64   \n",
      " 12  popularity         11190 non-null  int64   \n",
      " 13  msrp               11190 non-null  int64   \n",
      "dtypes: category(6), float64(3), int64(5)\n",
      "memory usage: 855.4 KB\n"
     ]
    }
   ],
   "source": [
    "df_copy = df_copy.dropna(subset=['engine_fuel_type', 'number_of_doors'])\n",
    "df_copy.info()"
   ]
  },
  {
   "cell_type": "code",
   "execution_count": 20,
   "metadata": {},
   "outputs": [
    {
     "data": {
      "text/plain": [
       "<AxesSubplot:xlabel='engine_hp', ylabel='Count'>"
      ]
     },
     "execution_count": 20,
     "metadata": {},
     "output_type": "execute_result"
    },
    {
     "data": {
      "image/png": "[encoded data removed]",
      "text/plain": [
       "<Figure size 432x288 with 1 Axes>"
      ]
     },
     "metadata": {
      "needs_background": "light"
     },
     "output_type": "display_data"
    }
   ],
   "source": [
    "sns.histplot(df_copy.engine_hp)"
   ]
  },
  {
   "cell_type": "code",
   "execution_count": 21,
   "metadata": {},
   "outputs": [
    {
     "name": "stdout",
     "output_type": "stream",
     "text": [
      "<class 'pandas.core.frame.DataFrame'>\n",
      "Int64Index: 11190 entries, 0 to 11913\n",
      "Data columns (total 14 columns):\n",
      " #   Column             Non-Null Count  Dtype   \n",
      "---  ------             --------------  -----   \n",
      " 0   make               11190 non-null  category\n",
      " 1   year               11190 non-null  int64   \n",
      " 2   engine_fuel_type   11190 non-null  category\n",
      " 3   engine_hp          11190 non-null  float64 \n",
      " 4   engine_cylinders   11160 non-null  float64 \n",
      " 5   transmission_type  11190 non-null  category\n",
      " 6   driven_wheels      11190 non-null  category\n",
      " 7   number_of_doors    11190 non-null  float64 \n",
      " 8   vehicle_size       11190 non-null  category\n",
      " 9   vehicle_style      11190 non-null  category\n",
      " 10  highway_mpg        11190 non-null  int64   \n",
      " 11  city_mpg           11190 non-null  int64   \n",
      " 12  popularity         11190 non-null  int64   \n",
      " 13  msrp               11190 non-null  int64   \n",
      "dtypes: category(6), float64(3), int64(5)\n",
      "memory usage: 855.4 KB\n"
     ]
    }
   ],
   "source": [
    "df_copy.engine_hp.fillna(value = round(df_copy.engine_hp.mean()), inplace = True)\n",
    "df_copy.info()"
   ]
  },
  {
   "cell_type": "code",
   "execution_count": 22,
   "metadata": {},
   "outputs": [
    {
     "data": {
      "text/plain": [
       "array([ 6.,  4.,  5.,  8., 12.,  0., nan, 10.,  3., 16.])"
      ]
     },
     "execution_count": 22,
     "metadata": {},
     "output_type": "execute_result"
    }
   ],
   "source": [
    "df_copy.engine_cylinders.unique()"
   ]
  },
  {
   "cell_type": "code",
   "execution_count": 23,
   "metadata": {},
   "outputs": [
    {
     "name": "stderr",
     "output_type": "stream",
     "text": [
      "/Library/Frameworks/Python.framework/Versions/3.10/lib/python3.10/site-packages/seaborn/_decorators.py:36: FutureWarning: Pass the following variable as a keyword arg: x. From version 0.12, the only valid positional argument will be `data`, and passing other arguments without an explicit keyword will result in an error or misinterpretation.\n",
      "  warnings.warn(\n"
     ]
    },
    {
     "data": {
      "text/plain": [
       "<AxesSubplot:xlabel='engine_cylinders', ylabel='count'>"
      ]
     },
     "execution_count": 23,
     "metadata": {},
     "output_type": "execute_result"
    },
    {
     "data": {
      "image/png": "[encoded data removed]",
      "text/plain": [
       "<Figure size 432x288 with 1 Axes>"
      ]
     },
     "metadata": {
      "needs_background": "light"
     },
     "output_type": "display_data"
    }
   ],
   "source": [
    "sns.countplot(df_copy.engine_cylinders)"
   ]
  },
  {
   "cell_type": "code",
   "execution_count": 24,
   "metadata": {},
   "outputs": [
    {
     "name": "stdout",
     "output_type": "stream",
     "text": [
      "<class 'pandas.core.frame.DataFrame'>\n",
      "Int64Index: 11190 entries, 0 to 11913\n",
      "Data columns (total 14 columns):\n",
      " #   Column             Non-Null Count  Dtype   \n",
      "---  ------             --------------  -----   \n",
      " 0   make               11190 non-null  category\n",
      " 1   year               11190 non-null  int64   \n",
      " 2   engine_fuel_type   11190 non-null  category\n",
      " 3   engine_hp          11190 non-null  float64 \n",
      " 4   engine_cylinders   11190 non-null  float64 \n",
      " 5   transmission_type  11190 non-null  category\n",
      " 6   driven_wheels      11190 non-null  category\n",
      " 7   number_of_doors    11190 non-null  float64 \n",
      " 8   vehicle_size       11190 non-null  category\n",
      " 9   vehicle_style      11190 non-null  category\n",
      " 10  highway_mpg        11190 non-null  int64   \n",
      " 11  city_mpg           11190 non-null  int64   \n",
      " 12  popularity         11190 non-null  int64   \n",
      " 13  msrp               11190 non-null  int64   \n",
      "dtypes: category(6), float64(3), int64(5)\n",
      "memory usage: 855.4 KB\n"
     ]
    }
   ],
   "source": [
    "df_copy.engine_cylinders.fillna(df_copy.engine_cylinders.mode()[0], inplace=True)\n",
    "df_copy.info()"
   ]
  },
  {
   "cell_type": "code",
   "execution_count": 25,
   "metadata": {},
   "outputs": [
    {
     "name": "stdout",
     "output_type": "stream",
     "text": [
      "True\n"
     ]
    }
   ],
   "source": [
    "int_res = True\n",
    "for data in df_copy.engine_hp:\n",
    "    if not data.is_integer():\n",
    "        int_res = False\n",
    "print(int_res)"
   ]
  },
  {
   "cell_type": "code",
   "execution_count": 26,
   "metadata": {},
   "outputs": [
    {
     "name": "stdout",
     "output_type": "stream",
     "text": [
      "True\n"
     ]
    }
   ],
   "source": [
    "int_res = True\n",
    "for data in df_copy.engine_cylinders:\n",
    "    if not data.is_integer():\n",
    "        int_res = False\n",
    "print(int_res)"
   ]
  },
  {
   "cell_type": "code",
   "execution_count": 27,
   "metadata": {},
   "outputs": [
    {
     "name": "stdout",
     "output_type": "stream",
     "text": [
      "True\n"
     ]
    }
   ],
   "source": [
    "int_res = True\n",
    "for data in df_copy.number_of_doors:\n",
    "    if not data.is_integer():\n",
    "        int_res = False\n",
    "print(int_res)"
   ]
  },
  {
   "cell_type": "code",
   "execution_count": 28,
   "metadata": {},
   "outputs": [
    {
     "name": "stdout",
     "output_type": "stream",
     "text": [
      "<class 'pandas.core.frame.DataFrame'>\n",
      "Int64Index: 11190 entries, 0 to 11913\n",
      "Data columns (total 14 columns):\n",
      " #   Column             Non-Null Count  Dtype   \n",
      "---  ------             --------------  -----   \n",
      " 0   make               11190 non-null  category\n",
      " 1   year               11190 non-null  int64   \n",
      " 2   engine_fuel_type   11190 non-null  category\n",
      " 3   engine_hp          11190 non-null  int64   \n",
      " 4   engine_cylinders   11190 non-null  int64   \n",
      " 5   transmission_type  11190 non-null  category\n",
      " 6   driven_wheels      11190 non-null  category\n",
      " 7   number_of_doors    11190 non-null  int64   \n",
      " 8   vehicle_size       11190 non-null  category\n",
      " 9   vehicle_style      11190 non-null  category\n",
      " 10  highway_mpg        11190 non-null  int64   \n",
      " 11  city_mpg           11190 non-null  int64   \n",
      " 12  popularity         11190 non-null  int64   \n",
      " 13  msrp               11190 non-null  int64   \n",
      "dtypes: category(6), int64(8)\n",
      "memory usage: 855.4 KB\n"
     ]
    }
   ],
   "source": [
    "#All float columns can be converted to int\n",
    "df_copy = df_copy.astype({'engine_hp':'int64', 'engine_cylinders':'int64', 'number_of_doors':'int64'})\n",
    "df_copy.info()"
   ]
  },
  {
   "cell_type": "code",
   "execution_count": 29,
   "metadata": {},
   "outputs": [],
   "source": [
    "from sklearn.preprocessing import LabelEncoder\n",
    "\n",
    "LE = LabelEncoder()\n",
    "df_copy['make'] = LE.fit_transform(df_copy['make'])\n",
    "df_copy['engine_fuel_type'] = LE.fit_transform(df_copy['engine_fuel_type'])\n",
    "df_copy['transmission_type'] = LE.fit_transform(df_copy['transmission_type'])\n",
    "df_copy['driven_wheels'] = LE.fit_transform(df_copy['driven_wheels'])\n",
    "df_copy['vehicle_size'] = LE.fit_transform(df_copy['vehicle_size'])\n",
    "df_copy['vehicle_style'] = LE.fit_transform(df_copy['vehicle_style'])"
   ]
  },
  {
   "cell_type": "code",
   "execution_count": 30,
   "metadata": {},
   "outputs": [
    {
     "name": "stdout",
     "output_type": "stream",
     "text": [
      "<class 'pandas.core.frame.DataFrame'>\n",
      "Int64Index: 11190 entries, 0 to 11913\n",
      "Data columns (total 14 columns):\n",
      " #   Column             Non-Null Count  Dtype\n",
      "---  ------             --------------  -----\n",
      " 0   make               11190 non-null  int64\n",
      " 1   year               11190 non-null  int64\n",
      " 2   engine_fuel_type   11190 non-null  int64\n",
      " 3   engine_hp          11190 non-null  int64\n",
      " 4   engine_cylinders   11190 non-null  int64\n",
      " 5   transmission_type  11190 non-null  int64\n",
      " 6   driven_wheels      11190 non-null  int64\n",
      " 7   number_of_doors    11190 non-null  int64\n",
      " 8   vehicle_size       11190 non-null  int64\n",
      " 9   vehicle_style      11190 non-null  int64\n",
      " 10  highway_mpg        11190 non-null  int64\n",
      " 11  city_mpg           11190 non-null  int64\n",
      " 12  popularity         11190 non-null  int64\n",
      " 13  msrp               11190 non-null  int64\n",
      "dtypes: int64(14)\n",
      "memory usage: 1.3 MB\n"
     ]
    }
   ],
   "source": [
    "df_copy.info()"
   ]
  },
  {
   "cell_type": "code",
   "execution_count": 31,
   "metadata": {},
   "outputs": [],
   "source": [
    "y = df_copy.msrp\n",
    "X = df_copy.drop('msrp', axis=1)"
   ]
  },
  {
   "cell_type": "code",
   "execution_count": 32,
   "metadata": {},
   "outputs": [],
   "source": [
    "from sklearn.model_selection import train_test_split\n",
    "from sklearn.preprocessing import StandardScaler\n",
    "\n",
    "scaler = StandardScaler()\n",
    "X = scaler.fit_transform(X)\n",
    "X_train, X_test, y_train, y_test = train_test_split(X, y, test_size = 0.2)\n",
    "\n",
    "from sklearn.ensemble import RandomForestRegressor\n",
    "rf = RandomForestRegressor(n_estimators = 100)\n",
    "rf.fit(X_train, y_train)\n",
    "y_pred_test = rf.predict(X_test)"
   ]
  },
  {
   "cell_type": "code",
   "execution_count": 33,
   "metadata": {},
   "outputs": [
    {
     "data": {
      "text/plain": [
       "0.9736828541128575"
      ]
     },
     "execution_count": 33,
     "metadata": {},
     "output_type": "execute_result"
    }
   ],
   "source": [
    "from sklearn.metrics import r2_score\n",
    "r2_score(y_test, y_pred_test)"
   ]
  }
 ],
 "metadata": {
  "kernelspec": {
   "display_name": "Python 3.10.5 64-bit",
   "language": "python",
   "name": "python3"
  },
  "language_info": {
   "codemirror_mode": {
    "name": "ipython",
    "version": 3
   },
   "file_extension": ".py",
   "mimetype": "text/x-python",
   "name": "python",
   "nbconvert_exporter": "python",
   "pygments_lexer": "ipython3",
   "version": "3.10.5"
  },
  "orig_nbformat": 4,
  "vscode": {
   "interpreter": {
    "hash": "aee8b7b246df8f9039afb4144a1f6fd8d2ca17a180786b69acc140d282b71a49"
   }
  }
 },
 "nbformat": 4,
 "nbformat_minor": 2
}
